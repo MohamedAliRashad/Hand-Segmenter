{
  "nbformat": 4,
  "nbformat_minor": 0,
  "metadata": {
    "colab": {
      "name": "SegNet.ipynb",
      "provenance": [],
      "authorship_tag": "ABX9TyOPpRlOFuy79A7qqZDZN5aZ",
      "include_colab_link": true
    },
    "kernelspec": {
      "name": "python3",
      "display_name": "Python 3"
    }
  },
  "cells": [
    {
      "cell_type": "markdown",
      "metadata": {
        "id": "view-in-github",
        "colab_type": "text"
      },
      "source": [
        "<a href=\"https://colab.research.google.com/github/MohamedAliRashad/Hand-Segmenter/blob/master/SegNet.ipynb\" target=\"_parent\"><img src=\"https://colab.research.google.com/assets/colab-badge.svg\" alt=\"Open In Colab\"/></a>"
      ]
    },
    {
      "cell_type": "markdown",
      "metadata": {
        "id": "XcvoR76-ObMO",
        "colab_type": "text"
      },
      "source": [
        "# **Hand Segmentation Notebook**"
      ]
    },
    {
      "cell_type": "code",
      "metadata": {
        "id": "6lIWGfN3OTrX",
        "colab_type": "code",
        "colab": {}
      },
      "source": [
        ""
      ],
      "execution_count": 0,
      "outputs": []
    }
  ]
}