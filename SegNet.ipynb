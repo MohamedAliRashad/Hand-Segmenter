{
  "nbformat": 4,
  "nbformat_minor": 0,
  "metadata": {
    "colab": {
      "name": "SegNet.ipynb",
      "provenance": [],
      "toc_visible": true,
      "authorship_tag": "ABX9TyOz9EX56TL5O1aldZI9JG5y",
      "include_colab_link": true
    },
    "kernelspec": {
      "name": "python3",
      "display_name": "Python 3"
    }
  },
  "cells": [
    {
      "cell_type": "markdown",
      "metadata": {
        "id": "view-in-github",
        "colab_type": "text"
      },
      "source": [
        "<a href=\"https://colab.research.google.com/github/MohamedAliRashad/Hand-Segmenter/blob/master/SegNet.ipynb\" target=\"_parent\"><img src=\"https://colab.research.google.com/assets/colab-badge.svg\" alt=\"Open In Colab\"/></a>"
      ]
    },
    {
      "cell_type": "markdown",
      "metadata": {
        "id": "XcvoR76-ObMO",
        "colab_type": "text"
      },
      "source": [
        "# **Hand Segmentation Notebook**"
      ]
    },
    {
      "cell_type": "markdown",
      "metadata": {
        "id": "w2JwYzIp3hCZ",
        "colab_type": "text"
      },
      "source": [
        "## Google Drive\n",
        "\n",
        "Link with google drive to save weights on the cloud."
      ]
    },
    {
      "cell_type": "code",
      "metadata": {
        "id": "cFJPDIJoPqDt",
        "colab_type": "code",
        "colab": {}
      },
      "source": [
        "from google.colab import drive\n",
        "drive.mount('/content/drive')"
      ],
      "execution_count": null,
      "outputs": []
    },
    {
      "cell_type": "markdown",
      "metadata": {
        "id": "dxQe6oAtFw-g",
        "colab_type": "text"
      },
      "source": [
        "## Get Datasets"
      ]
    },
    {
      "cell_type": "code",
      "metadata": {
        "id": "9ksI5Hv_F9Zl",
        "colab_type": "code",
        "colab": {}
      },
      "source": [
        "# Wild_Hands\n",
        "wget .....\n",
        " \n",
        "# EGTEA Dataset\n",
        "wget ....."
      ],
      "execution_count": null,
      "outputs": []
    },
    {
      "cell_type": "markdown",
      "metadata": {
        "id": "a5-i9pyQ4c-D",
        "colab_type": "text"
      },
      "source": [
        "## Establish Repo and Dependencies "
      ]
    },
    {
      "cell_type": "code",
      "metadata": {
        "id": "6lIWGfN3OTrX",
        "colab_type": "code",
        "colab": {}
      },
      "source": [
        "%cd /content/\n",
        "!git pull https://github.com/MohamedAliRashad/Hand-Segmenter.git\n",
        "!pip install -r requirements.txt\n",
        "%cd /content/Hand-Segmenter/"
      ],
      "execution_count": null,
      "outputs": []
    },
    {
      "cell_type": "markdown",
      "metadata": {
        "id": "PSh44Kk0GJJK",
        "colab_type": "text"
      },
      "source": [
        "## Development Pipeline"
      ]
    },
    {
      "cell_type": "code",
      "metadata": {
        "id": "3_s5tY0mGT7p",
        "colab_type": "code",
        "colab": {}
      },
      "source": [
        "%cd /content/Hand-Segmenter/\n",
        "# datasets classes\n",
        "from data.egtea import EGTEADataset\n",
        "from data.wild_hands import WildHandsDataset\n",
        "\n",
        "# utilities for training and testing\n",
        "from utils.trainer import Trainer\n",
        "from utils.evaluator import Evaluator\n",
        "\n",
        "# Network Archs (changible)\n",
        "from models.hand_segnet import handsegnet\n",
        "\n",
        "# To Do\n",
        "train_loader = ...\n",
        "valid_loader = ...\n",
        "test_loader = ...\n",
        "\n",
        "# Initiliaze Trainer and Evaluator\n",
        ".\n",
        ".\n",
        ".\n",
        ".\n",
        ".\n",
        "\n",
        "# models to be tried out\n",
        ".\n",
        ".\n",
        "\n",
        "# printed metrics\n",
        "..."
      ],
      "execution_count": null,
      "outputs": []
    }
  ]
}